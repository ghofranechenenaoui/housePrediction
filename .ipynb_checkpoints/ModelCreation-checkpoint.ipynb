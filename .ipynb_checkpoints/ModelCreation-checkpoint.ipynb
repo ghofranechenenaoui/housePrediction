{
 "cells": [
  {
   "cell_type": "code",
   "execution_count": 1,
   "metadata": {},
   "outputs": [],
   "source": [
    "import numpy as np\n",
    "import matplotlib.pyplot as plt\n",
    "import pandas as pd\n",
    "import seaborn as sb\n",
    "import pickle\n",
    "\n",
    "from termcolor import colored as cl\n",
    "from sklearn.linear_model import LinearRegression\n",
    "from sklearn.linear_model import Ridge # Ridge algorithm\n",
    "from sklearn.linear_model import Lasso # Lasso algorithm\n",
    "from sklearn.linear_model import BayesianRidge # Bayesian algorithm\n",
    "from sklearn.linear_model import ElasticNet # ElasticNet algorithm\n",
    "from sklearn.tree import DecisionTreeRegressor \n",
    "from sklearn.ensemble import RandomForestRegressor\n",
    "from sklearn.model_selection import GridSearchCV\n",
    "from sklearn.model_selection import RandomizedSearchCV\n",
    "\n",
    "\n",
    "\n",
    "from sklearn.metrics import explained_variance_score as evs # evaluation metric\n",
    "from sklearn.metrics import r2_score as r2 # evaluation metric\n",
    "from math import radians, cos, sin, asin, sqrt\n"
   ]
  },
  {
   "cell_type": "markdown",
   "metadata": {},
   "source": [
    "### Importation de données"
   ]
  },
  {
   "cell_type": "code",
   "execution_count": 65,
   "metadata": {},
   "outputs": [],
   "source": [
    "dataset2 = pd.read_csv('mer positions.csv')\n",
    "dataset = pd.read_excel('Data - Test technique PFE 8.xlsx')"
   ]
  },
  {
   "cell_type": "markdown",
   "metadata": {},
   "source": [
    "### Fucnction to use "
   ]
  },
  {
   "cell_type": "code",
   "execution_count": 66,
   "metadata": {},
   "outputs": [],
   "source": [
    "#calculer la distance entre la cote mer la plus proche et chacune des maisons listées dans la DataSet\n",
    "def dist(lat1, long1, lat2, long2):\n",
    "    # convert decimal degrees to radians \n",
    "    lat1, long1, lat2, long2 = map(radians, [lat1, long1, lat2, long2])\n",
    "    # haversine formula \n",
    "    dlon = long2 - long1 \n",
    "    dlat = lat2 - lat1 \n",
    "    a = sin(dlat/2)**2 + cos(lat1) * cos(lat2) * sin(dlon/2)**2\n",
    "    c = 2 * asin(sqrt(a)) \n",
    "    # Radius of earth in kilometers is 6371\n",
    "    km = 6371* c\n",
    "    return km\n",
    "\n",
    "def find_nearest(lat, long):\n",
    "    distances = dataset2.apply(lambda row: dist(lat, long, row['latitude'], row['longitude']), axis=1)\n",
    "    return min(distances)"
   ]
  },
  {
   "cell_type": "markdown",
   "metadata": {},
   "source": [
    "### Remplir la disctance mer"
   ]
  },
  {
   "cell_type": "code",
   "execution_count": 67,
   "metadata": {},
   "outputs": [],
   "source": [
    "dataset['distance_mer'] = dataset.apply(lambda row: find_nearest(row['latitude'], row['longitude']), axis=1)"
   ]
  },
  {
   "cell_type": "code",
   "execution_count": 68,
   "metadata": {},
   "outputs": [
    {
     "data": {
      "text/plain": [
       "5439.561818753514"
      ]
     },
     "execution_count": 68,
     "metadata": {},
     "output_type": "execute_result"
    }
   ],
   "source": [
    "find_nearest(6.484708,43.506405)"
   ]
  },
  {
   "cell_type": "code",
   "execution_count": 71,
   "metadata": {},
   "outputs": [
    {
     "data": {
      "text/plain": [
       "id_mutation                  0\n",
       "date_mutation                0\n",
       "surface_reelle_bati          0\n",
       "nombre_pieces_principales    0\n",
       "longitude                    0\n",
       "latitude                     0\n",
       "distance_mer                 0\n",
       "prix                         0\n",
       "dtype: int64"
      ]
     },
     "execution_count": 71,
     "metadata": {},
     "output_type": "execute_result"
    }
   ],
   "source": [
    "dataset.dropna(inplace = True)\n",
    "dataset.isnull().sum()"
   ]
  },
  {
   "cell_type": "code",
   "execution_count": 72,
   "metadata": {},
   "outputs": [
    {
     "data": {
      "text/html": [
       "<div>\n",
       "<style scoped>\n",
       "    .dataframe tbody tr th:only-of-type {\n",
       "        vertical-align: middle;\n",
       "    }\n",
       "\n",
       "    .dataframe tbody tr th {\n",
       "        vertical-align: top;\n",
       "    }\n",
       "\n",
       "    .dataframe thead th {\n",
       "        text-align: right;\n",
       "    }\n",
       "</style>\n",
       "<table border=\"1\" class=\"dataframe\">\n",
       "  <thead>\n",
       "    <tr style=\"text-align: right;\">\n",
       "      <th></th>\n",
       "      <th>date_mutation</th>\n",
       "      <th>surface_reelle_bati</th>\n",
       "      <th>nombre_pieces_principales</th>\n",
       "      <th>longitude</th>\n",
       "      <th>latitude</th>\n",
       "      <th>distance_mer</th>\n",
       "      <th>prix</th>\n",
       "    </tr>\n",
       "  </thead>\n",
       "  <tbody>\n",
       "    <tr>\n",
       "      <td>date_mutation</td>\n",
       "      <td>NaN</td>\n",
       "      <td>NaN</td>\n",
       "      <td>NaN</td>\n",
       "      <td>NaN</td>\n",
       "      <td>NaN</td>\n",
       "      <td>NaN</td>\n",
       "      <td>NaN</td>\n",
       "    </tr>\n",
       "    <tr>\n",
       "      <td>surface_reelle_bati</td>\n",
       "      <td>NaN</td>\n",
       "      <td>1.000000</td>\n",
       "      <td>0.728987</td>\n",
       "      <td>0.066838</td>\n",
       "      <td>0.036951</td>\n",
       "      <td>-0.033274</td>\n",
       "      <td>0.438409</td>\n",
       "    </tr>\n",
       "    <tr>\n",
       "      <td>nombre_pieces_principales</td>\n",
       "      <td>NaN</td>\n",
       "      <td>0.728987</td>\n",
       "      <td>1.000000</td>\n",
       "      <td>0.087487</td>\n",
       "      <td>0.010994</td>\n",
       "      <td>-0.070995</td>\n",
       "      <td>0.334194</td>\n",
       "    </tr>\n",
       "    <tr>\n",
       "      <td>longitude</td>\n",
       "      <td>NaN</td>\n",
       "      <td>0.066838</td>\n",
       "      <td>0.087487</td>\n",
       "      <td>1.000000</td>\n",
       "      <td>-0.090681</td>\n",
       "      <td>-0.781243</td>\n",
       "      <td>0.163588</td>\n",
       "    </tr>\n",
       "    <tr>\n",
       "      <td>latitude</td>\n",
       "      <td>NaN</td>\n",
       "      <td>0.036951</td>\n",
       "      <td>0.010994</td>\n",
       "      <td>-0.090681</td>\n",
       "      <td>1.000000</td>\n",
       "      <td>0.652051</td>\n",
       "      <td>-0.323858</td>\n",
       "    </tr>\n",
       "    <tr>\n",
       "      <td>distance_mer</td>\n",
       "      <td>NaN</td>\n",
       "      <td>-0.033274</td>\n",
       "      <td>-0.070995</td>\n",
       "      <td>-0.781243</td>\n",
       "      <td>0.652051</td>\n",
       "      <td>1.000000</td>\n",
       "      <td>-0.306792</td>\n",
       "    </tr>\n",
       "    <tr>\n",
       "      <td>prix</td>\n",
       "      <td>NaN</td>\n",
       "      <td>0.438409</td>\n",
       "      <td>0.334194</td>\n",
       "      <td>0.163588</td>\n",
       "      <td>-0.323858</td>\n",
       "      <td>-0.306792</td>\n",
       "      <td>1.000000</td>\n",
       "    </tr>\n",
       "  </tbody>\n",
       "</table>\n",
       "</div>"
      ],
      "text/plain": [
       "                           date_mutation  surface_reelle_bati  \\\n",
       "date_mutation                        NaN                  NaN   \n",
       "surface_reelle_bati                  NaN             1.000000   \n",
       "nombre_pieces_principales            NaN             0.728987   \n",
       "longitude                            NaN             0.066838   \n",
       "latitude                             NaN             0.036951   \n",
       "distance_mer                         NaN            -0.033274   \n",
       "prix                                 NaN             0.438409   \n",
       "\n",
       "                           nombre_pieces_principales  longitude  latitude  \\\n",
       "date_mutation                                    NaN        NaN       NaN   \n",
       "surface_reelle_bati                         0.728987   0.066838  0.036951   \n",
       "nombre_pieces_principales                   1.000000   0.087487  0.010994   \n",
       "longitude                                   0.087487   1.000000 -0.090681   \n",
       "latitude                                    0.010994  -0.090681  1.000000   \n",
       "distance_mer                               -0.070995  -0.781243  0.652051   \n",
       "prix                                        0.334194   0.163588 -0.323858   \n",
       "\n",
       "                           distance_mer      prix  \n",
       "date_mutation                       NaN       NaN  \n",
       "surface_reelle_bati           -0.033274  0.438409  \n",
       "nombre_pieces_principales     -0.070995  0.334194  \n",
       "longitude                     -0.781243  0.163588  \n",
       "latitude                       0.652051 -0.323858  \n",
       "distance_mer                   1.000000 -0.306792  \n",
       "prix                          -0.306792  1.000000  "
      ]
     },
     "execution_count": 72,
     "metadata": {},
     "output_type": "execute_result"
    }
   ],
   "source": [
    "dataset.corr()"
   ]
  },
  {
   "cell_type": "code",
   "execution_count": 73,
   "metadata": {},
   "outputs": [],
   "source": [
    "#We eliminate nobre des piece principale or surface reele bati becouse theire is correlation between both of them\n",
    "#dataset = dataset.drop(['longitude'], axis=1)\n",
    "#dataset.head(2)"
   ]
  },
  {
   "cell_type": "code",
   "execution_count": 74,
   "metadata": {},
   "outputs": [
    {
     "data": {
      "text/html": [
       "<div>\n",
       "<style scoped>\n",
       "    .dataframe tbody tr th:only-of-type {\n",
       "        vertical-align: middle;\n",
       "    }\n",
       "\n",
       "    .dataframe tbody tr th {\n",
       "        vertical-align: top;\n",
       "    }\n",
       "\n",
       "    .dataframe thead th {\n",
       "        text-align: right;\n",
       "    }\n",
       "</style>\n",
       "<table border=\"1\" class=\"dataframe\">\n",
       "  <thead>\n",
       "    <tr style=\"text-align: right;\">\n",
       "      <th></th>\n",
       "      <th>surface_reelle_bati</th>\n",
       "      <th>nombre_pieces_principales</th>\n",
       "      <th>longitude</th>\n",
       "      <th>latitude</th>\n",
       "      <th>distance_mer</th>\n",
       "    </tr>\n",
       "  </thead>\n",
       "  <tbody>\n",
       "    <tr>\n",
       "      <td>0</td>\n",
       "      <td>153</td>\n",
       "      <td>4</td>\n",
       "      <td>6.484708</td>\n",
       "      <td>43.506405</td>\n",
       "      <td>23.349566</td>\n",
       "    </tr>\n",
       "  </tbody>\n",
       "</table>\n",
       "</div>"
      ],
      "text/plain": [
       "   surface_reelle_bati  nombre_pieces_principales  longitude   latitude  \\\n",
       "0                  153                          4   6.484708  43.506405   \n",
       "\n",
       "   distance_mer  \n",
       "0     23.349566  "
      ]
     },
     "execution_count": 74,
     "metadata": {},
     "output_type": "execute_result"
    }
   ],
   "source": [
    "# Split our data\n",
    "y = dataset.iloc[:,-1].values\n",
    "X = dataset.iloc[:,2:7]\n",
    "X.head(1)"
   ]
  },
  {
   "cell_type": "code",
   "execution_count": 46,
   "metadata": {},
   "outputs": [
    {
     "data": {
      "text/html": [
       "<div>\n",
       "<style scoped>\n",
       "    .dataframe tbody tr th:only-of-type {\n",
       "        vertical-align: middle;\n",
       "    }\n",
       "\n",
       "    .dataframe tbody tr th {\n",
       "        vertical-align: top;\n",
       "    }\n",
       "\n",
       "    .dataframe thead th {\n",
       "        text-align: right;\n",
       "    }\n",
       "</style>\n",
       "<table border=\"1\" class=\"dataframe\">\n",
       "  <thead>\n",
       "    <tr style=\"text-align: right;\">\n",
       "      <th></th>\n",
       "      <th>surface_reelle_bati</th>\n",
       "      <th>nombre_pieces_principales</th>\n",
       "      <th>longitude</th>\n",
       "      <th>latitude</th>\n",
       "      <th>distance_mer</th>\n",
       "    </tr>\n",
       "  </thead>\n",
       "  <tbody>\n",
       "    <tr>\n",
       "      <td>0</td>\n",
       "      <td>1.725458</td>\n",
       "      <td>0.158615</td>\n",
       "      <td>-0.602792</td>\n",
       "      <td>0.856993</td>\n",
       "      <td>1.070239</td>\n",
       "    </tr>\n",
       "    <tr>\n",
       "      <td>1</td>\n",
       "      <td>-0.012454</td>\n",
       "      <td>0.158615</td>\n",
       "      <td>0.825911</td>\n",
       "      <td>0.444713</td>\n",
       "      <td>-0.503725</td>\n",
       "    </tr>\n",
       "  </tbody>\n",
       "</table>\n",
       "</div>"
      ],
      "text/plain": [
       "   surface_reelle_bati  nombre_pieces_principales  longitude  latitude  \\\n",
       "0             1.725458                   0.158615  -0.602792  0.856993   \n",
       "1            -0.012454                   0.158615   0.825911  0.444713   \n",
       "\n",
       "   distance_mer  \n",
       "0      1.070239  \n",
       "1     -0.503725  "
      ]
     },
     "execution_count": 46,
     "metadata": {},
     "output_type": "execute_result"
    }
   ],
   "source": [
    "# Standardization\n",
    "#from sklearn.preprocessing import StandardScaler\n",
    "#ss1=StandardScaler() \n",
    "#X = pd.DataFrame(ss1.fit_transform(X),columns=X.columns)\n",
    "#X.head(2)"
   ]
  },
  {
   "cell_type": "code",
   "execution_count": 75,
   "metadata": {},
   "outputs": [
    {
     "data": {
      "image/png": "[encoded data removed]",
      "text/plain": [
       "<Figure size 432x288 with 1 Axes>"
      ]
     },
     "metadata": {
      "needs_background": "light"
     },
     "output_type": "display_data"
    }
   ],
   "source": [
    "#Distribution plot\n",
    "sb.distplot(dataset['prix'], color = 'r')\n",
    "plt.title('Sale Price Distribution', fontsize = 16)\n",
    "plt.xlabel('Sale Price', fontsize = 14)\n",
    "plt.ylabel('Frequency', fontsize = 14)\n",
    "plt.xticks(fontsize = 12)\n",
    "plt.yticks(fontsize = 12)\n",
    "plt.savefig('distplot.png')\n",
    "plt.show()"
   ]
  },
  {
   "cell_type": "code",
   "execution_count": 76,
   "metadata": {},
   "outputs": [
    {
     "name": "stdout",
     "output_type": "stream",
     "text": [
      "\u001b[1mX_train samples : \u001b[0m      surface_reelle_bati  nombre_pieces_principales  longitude   latitude  \\\n",
      "299                   77                          4   6.580039  43.270697   \n",
      "940                  105                          4   6.131639  43.655566   \n",
      "\n",
      "     distance_mer  \n",
      "299      0.975655  \n",
      "940     55.664382  \n",
      "\u001b[1mX_test samples : \u001b[0m      surface_reelle_bati  nombre_pieces_principales  longitude   latitude  \\\n",
      "453                  130                          4   6.583185  43.471787   \n",
      "793                  115                          4   6.764265  43.433798   \n",
      "\n",
      "     distance_mer  \n",
      "453     14.526870  \n",
      "793      1.846373  \n",
      "\u001b[1my_train samples : \u001b[0m [1080000.  155000.]\n",
      "\u001b[1my_test samples : \u001b[0m [270000. 335000.]\n"
     ]
    }
   ],
   "source": [
    "# FEATURE SELECTION & DATA SPLIT\n",
    "from sklearn.model_selection import train_test_split\n",
    "X_train, X_test, y_train, y_test = train_test_split(X,y, test_size = 0.15, random_state = 42)\n",
    "\n",
    "print(cl('X_train samples : ', attrs = ['bold']), X_train[0:2])\n",
    "print(cl('X_test samples : ', attrs = ['bold']), X_test[0:2])\n",
    "print(cl('y_train samples : ', attrs = ['bold']), y_train[0:2])\n",
    "print(cl('y_test samples : ', attrs = ['bold']), y_test[0:2])"
   ]
  },
  {
   "cell_type": "code",
   "execution_count": 77,
   "metadata": {},
   "outputs": [],
   "source": [
    "# MODELING\n",
    "\n",
    "# 1. OLS\n",
    "\n",
    "ols = LinearRegression()\n",
    "ols.fit(X_train, y_train)\n",
    "ols_yhat = ols.predict(X_test)\n",
    "\n",
    "# 2. Ridge\n",
    "\n",
    "ridge = Ridge(alpha = 0.5)\n",
    "ridge.fit(X_train, y_train)\n",
    "ridge_yhat = ridge.predict(X_test)\n",
    "\n",
    "# 3. Lasso\n",
    "\n",
    "lasso = Lasso(alpha = 0.0001)\n",
    "lasso.fit(X_train, y_train)\n",
    "lasso_yhat = lasso.predict(X_test)\n",
    "\n",
    "# 4. Bayesian\n",
    "\n",
    "bayesian = BayesianRidge()\n",
    "bayesian.fit(X_train, y_train)\n",
    "bayesian_yhat = bayesian.predict(X_test)\n",
    "\n",
    "# 5. ElasticNet\n",
    "\n",
    "en = ElasticNet(alpha = 0.01)\n",
    "en.fit(X_train, y_train)\n",
    "en_yhat = en.predict(X_test)\n",
    "\n",
    "# 6. TreeRegressor\n",
    "\n",
    "tree_reg = DecisionTreeRegressor(random_state=42,max_depth=4,min_samples_split=5,max_leaf_nodes=10)\n",
    "tree_reg.fit(X_train, y_train)\n",
    "en_ytree = en.predict(X_test)\n",
    "\n",
    "# 7. ForestRegressor\n",
    "\n",
    "forest_reg = RandomForestRegressor(n_estimators=100, random_state=42)\n",
    "forest_reg.fit(X_train, y_train)\n",
    "forest_ytree = forest_reg.predict(X_test)"
   ]
  },
  {
   "cell_type": "code",
   "execution_count": 78,
   "metadata": {},
   "outputs": [
    {
     "name": "stdout",
     "output_type": "stream",
     "text": [
      "Fitting 3 folds for each of 100 candidates, totalling 300 fits\n"
     ]
    },
    {
     "name": "stderr",
     "output_type": "stream",
     "text": [
      "[Parallel(n_jobs=-1)]: Using backend LokyBackend with 4 concurrent workers.\n",
      "[Parallel(n_jobs=-1)]: Done  33 tasks      | elapsed:   39.3s\n",
      "[Parallel(n_jobs=-1)]: Done 154 tasks      | elapsed:  2.5min\n",
      "[Parallel(n_jobs=-1)]: Done 300 out of 300 | elapsed:  4.7min finished\n"
     ]
    }
   ],
   "source": [
    "# 8. RandomizedSearchCV\n",
    "\n",
    "# Number of trees in random forest\n",
    "n_estimators = [int(x) for x in np.linspace(start = 200, stop = 2000, num = 10)]\n",
    "# Number of features to consider at every split\n",
    "max_features = ['auto', 'sqrt']\n",
    "# Maximum number of levels in tree\n",
    "max_depth = [int(x) for x in np.linspace(10, 110, num = 11)]\n",
    "max_depth.append(None)\n",
    "# Minimum number of samples required to split a node\n",
    "min_samples_split = [2, 5, 10]\n",
    "# Minimum number of samples required at each leaf node\n",
    "min_samples_leaf = [1, 2, 4]\n",
    "# Method of selecting samples for training each tree\n",
    "bootstrap = [True, False]\n",
    "# Create the random grid\n",
    "random_grid = {'n_estimators': n_estimators,\n",
    "               'max_features': max_features,\n",
    "               'max_depth': max_depth,\n",
    "               'min_samples_split': min_samples_split,\n",
    "               'min_samples_leaf': min_samples_leaf,\n",
    "               'bootstrap': bootstrap}\n",
    "\n",
    "rf = RandomForestRegressor()\n",
    "rf_random = RandomizedSearchCV(estimator = rf, param_distributions = random_grid, n_iter = 100, cv = 3, verbose=2, random_state=42, n_jobs = -1)\n",
    "rf_random.fit(X_train, y_train)\n",
    "Yb = rf_random.predict(X_test)"
   ]
  },
  {
   "cell_type": "code",
   "execution_count": 79,
   "metadata": {},
   "outputs": [
    {
     "name": "stdout",
     "output_type": "stream",
     "text": [
      "Model Performance\n",
      "Average Error: 126058.6158 degrees.\n",
      "Accuracy = 62.81%.\n"
     ]
    }
   ],
   "source": [
    "#Evaluate Random Search\n",
    "def evaluate(model, test_features, test_labels):\n",
    "    predictions = model.predict(test_features)\n",
    "    errors = abs(predictions - test_labels)\n",
    "    mape = 100 * np.mean(errors / test_labels)\n",
    "    accuracy = 100 - mape\n",
    "    print('Model Performance')\n",
    "    print('Average Error: {:0.4f} degrees.'.format(np.mean(errors)))\n",
    "    print('Accuracy = {:0.2f}%.'.format(accuracy))\n",
    "    return accuracy\n",
    "base_accuracy = evaluate(rf_random, X_test, y_test)"
   ]
  },
  {
   "cell_type": "code",
   "execution_count": 80,
   "metadata": {},
   "outputs": [
    {
     "name": "stdout",
     "output_type": "stream",
     "text": [
      "\u001b[1mEXPLAINED VARIANCE SCORE:\u001b[0m\n",
      "-------------------------------------------------------------------------------\n",
      "\u001b[1mExplained Variance Score of OLS model is 0.2387566040788608\u001b[0m\n",
      "-------------------------------------------------------------------------------\n",
      "\u001b[1mExplained Variance Score of Ridge model is 0.23344446490675153\u001b[0m\n",
      "-------------------------------------------------------------------------------\n",
      "\u001b[1mExplained Variance Score of Lasso model is 0.2387566034740327\u001b[0m\n",
      "-------------------------------------------------------------------------------\n",
      "\u001b[1mExplained Variance Score of Bayesian model is 0.16374439877269786\u001b[0m\n",
      "-------------------------------------------------------------------------------\n",
      "\u001b[1mExplained Variance Score of ElasticNet is 0.2164613649489111\u001b[0m\n",
      "-------------------------------------------------------------------------------\n",
      "\u001b[1mExplained Variance Score of treedecision is 0.2164613649489111\u001b[0m\n",
      "-------------------------------------------------------------------------------\n",
      "\u001b[1mExplained Variance Score of forestdecision is 0.5564815880065668\u001b[0m\n",
      "-------------------------------------------------------------------------------\n",
      "\u001b[1mExplained Variance Score of RandomizedSearchCV is 0.5690974073647315\u001b[0m\n",
      "-------------------------------------------------------------------------------\n"
     ]
    }
   ],
   "source": [
    "#Explained Variance Score\n",
    "print(cl('EXPLAINED VARIANCE SCORE:', attrs = ['bold']))\n",
    "print('-------------------------------------------------------------------------------')\n",
    "print(cl('Explained Variance Score of OLS model is {}'.format(evs(y_test, ols_yhat)), attrs = ['bold']))\n",
    "print('-------------------------------------------------------------------------------')\n",
    "print(cl('Explained Variance Score of Ridge model is {}'.format(evs(y_test, ridge_yhat)), attrs = ['bold']))\n",
    "print('-------------------------------------------------------------------------------')\n",
    "print(cl('Explained Variance Score of Lasso model is {}'.format(evs(y_test, lasso_yhat)), attrs = ['bold']))\n",
    "print('-------------------------------------------------------------------------------')\n",
    "print(cl('Explained Variance Score of Bayesian model is {}'.format(evs(y_test, bayesian_yhat)), attrs = ['bold']))\n",
    "print('-------------------------------------------------------------------------------')\n",
    "print(cl('Explained Variance Score of ElasticNet is {}'.format(evs(y_test, en_yhat)), attrs = ['bold']))\n",
    "print('-------------------------------------------------------------------------------')\n",
    "print(cl('Explained Variance Score of treedecision is {}'.format(evs(y_test, en_ytree)), attrs = ['bold']))\n",
    "print('-------------------------------------------------------------------------------')\n",
    "print(cl('Explained Variance Score of forestdecision is {}'.format(evs(y_test, forest_ytree)), attrs = ['bold']))\n",
    "print('-------------------------------------------------------------------------------')\n",
    "print(cl('Explained Variance Score of RandomizedSearchCV is {}'.format(evs(y_test, Yb)), attrs = ['bold']))\n",
    "print('-------------------------------------------------------------------------------')"
   ]
  },
  {
   "cell_type": "code",
   "execution_count": 81,
   "metadata": {},
   "outputs": [
    {
     "name": "stdout",
     "output_type": "stream",
     "text": [
      "\u001b[1mR-SQUARED:\u001b[0m\n",
      "-------------------------------------------------------------------------------\n",
      "\u001b[1mR-Squared of OLS model is 0.23754998942850225\u001b[0m\n",
      "-------------------------------------------------------------------------------\n",
      "\u001b[1mR-Squared of Ridge model is 0.23200879081584735\u001b[0m\n",
      "-------------------------------------------------------------------------------\n",
      "\u001b[1mR-Squared of Lasso model is 0.2375499887650966\u001b[0m\n",
      "-------------------------------------------------------------------------------\n",
      "\u001b[1mR-Squared of Bayesian model is 0.1621511389641337\u001b[0m\n",
      "-------------------------------------------------------------------------------\n",
      "\u001b[1mR-Squared of ElasticNet is 0.21474969138860867\u001b[0m\n",
      "-------------------------------------------------------------------------------\n",
      "\u001b[1mR-Squared of Treedecision is 0.21474969138860867\u001b[0m\n",
      "-------------------------------------------------------------------------------\n",
      "\u001b[1mR-Squared of Forestdecision is 0.5552258051966327\u001b[0m\n",
      "-------------------------------------------------------------------------------\n",
      "\u001b[1mR-Squared of RandomizedSearchCV is 0.5675493004426492\u001b[0m\n",
      "-------------------------------------------------------------------------------\n"
     ]
    }
   ],
   "source": [
    "#R-squared\n",
    "\n",
    "print(cl('R-SQUARED:', attrs = ['bold']))\n",
    "print('-------------------------------------------------------------------------------')\n",
    "print(cl('R-Squared of OLS model is {}'.format(r2(y_test, ols_yhat)), attrs = ['bold']))\n",
    "print('-------------------------------------------------------------------------------')\n",
    "print(cl('R-Squared of Ridge model is {}'.format(r2(y_test, ridge_yhat)), attrs = ['bold']))\n",
    "print('-------------------------------------------------------------------------------')\n",
    "print(cl('R-Squared of Lasso model is {}'.format(r2(y_test, lasso_yhat)), attrs = ['bold']))\n",
    "print('-------------------------------------------------------------------------------')\n",
    "print(cl('R-Squared of Bayesian model is {}'.format(r2(y_test, bayesian_yhat)), attrs = ['bold']))\n",
    "print('-------------------------------------------------------------------------------')\n",
    "print(cl('R-Squared of ElasticNet is {}'.format(r2(y_test, en_yhat)), attrs = ['bold']))\n",
    "print('-------------------------------------------------------------------------------')\n",
    "print(cl('R-Squared of Treedecision is {}'.format(r2(y_test, en_ytree)), attrs = ['bold']))\n",
    "print('-------------------------------------------------------------------------------')\n",
    "print(cl('R-Squared of Forestdecision is {}'.format(r2(y_test, forest_ytree)), attrs = ['bold']))\n",
    "print('-------------------------------------------------------------------------------')\n",
    "print(cl('R-Squared of RandomizedSearchCV is {}'.format(r2(y_test, Yb)), attrs = ['bold']))\n",
    "print('-------------------------------------------------------------------------------')"
   ]
  },
  {
   "cell_type": "code",
   "execution_count": 83,
   "metadata": {},
   "outputs": [
    {
     "name": "stdout",
     "output_type": "stream",
     "text": [
      "[239339.79258833]\n"
     ]
    }
   ],
   "source": [
    "# Saving model to disk\n",
    "pickle.dump(rf_random, open('model.pkl','wb'))\n",
    "# Loading model to compare the results\n",
    "model = pickle.load(open('model.pkl','rb'))\n",
    "print(model.predict([[153,4,6.484708,43.506405,75.226172]]))"
   ]
  }
 ],
 "metadata": {
  "kernelspec": {
   "display_name": "Python 3",
   "language": "python",
   "name": "python3"
  },
  "language_info": {
   "codemirror_mode": {
    "name": "ipython",
    "version": 3
   },
   "file_extension": ".py",
   "mimetype": "text/x-python",
   "name": "python",
   "nbconvert_exporter": "python",
   "pygments_lexer": "ipython3",
   "version": "3.7.4"
  }
 },
 "nbformat": 4,
 "nbformat_minor": 4
}
